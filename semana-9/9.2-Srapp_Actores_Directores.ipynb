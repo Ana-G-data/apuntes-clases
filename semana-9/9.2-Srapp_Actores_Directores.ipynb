{
 "cells": [
  {
   "cell_type": "code",
   "execution_count": 31,
   "metadata": {},
   "outputs": [],
   "source": [
    "import pandas as pd\n",
    "import numpy as np\n",
    "import re\n",
    "import pickle\n",
    "from tqdm import tqdm\n",
    "\n",
    "\n",
    "\n",
    "from selenium import webdriver\n",
    "from webdriver_manager.chrome import ChromeDriverManager\n",
    "from selenium.webdriver.common.keys import Keys\n",
    "from selenium.webdriver.chrome.options import Options\n",
    "\n",
    "\n",
    "# Adding the parent directory to the path so that the `src` directory can be imported.\n",
    "import sys\n",
    "sys.path.append(\"../\")\n",
    "\n",
    "# Importing the `support` module from the `src` directory.\n",
    "import src.support as sp\n",
    "\n",
    "# Ignoring the warnings.\n",
    "import warnings\n",
    "warnings.filterwarnings('ignore')"
   ]
  },
  {
   "cell_type": "code",
   "execution_count": 2,
   "metadata": {},
   "outputs": [],
   "source": [
    "# abrimos el pickle de los actores más representado\n",
    "with open('../data/pickle/top10_actors.pickle', 'rb') as act:\n",
    "    actors = pickle.load(act)"
   ]
  },
  {
   "cell_type": "code",
   "execution_count": 3,
   "metadata": {},
   "outputs": [
    {
     "data": {
      "text/plain": [
       "['Adam Sandler',\n",
       " 'Maya Rudolph',\n",
       " 'Andrew Bachelor',\n",
       " 'Lakeith Stanfield',\n",
       " 'Jacki Weaver',\n",
       " 'Ken Marino',\n",
       " 'Robbie Amell',\n",
       " 'Zachary Quinto',\n",
       " 'Nick Swardson',\n",
       " 'Rob Schneider']"
      ]
     },
     "execution_count": 3,
     "metadata": {},
     "output_type": "execute_result"
    }
   ],
   "source": [
    "actors"
   ]
  },
  {
   "cell_type": "code",
   "execution_count": 40,
   "metadata": {},
   "outputs": [],
   "source": [
    "def scrap_imdb(list_): \n",
    "\n",
    "    personal_actors = {\"name\": [], \n",
    "                    \"image\": [], \n",
    "                    \"description\": [], \n",
    "                    \"positions\": [], \n",
    "                    \"known_for\": [], \n",
    "                    \"creditos\": []}\n",
    "\n",
    "    \n",
    "    eleccion = input(\"Que quieres escrapear, director o actor:\")\n",
    "    \n",
    "    while eleccion.lower() not in [\"director\", \"actor\"]:\n",
    "        print(\"Lo sentimos elige una opción correcta entre director y actor\")\n",
    "        eleccion = input(\"Que quieres escrapear, director o actor:\")\n",
    "\n",
    "        \n",
    "    \n",
    "    for element in tqdm(list_): \n",
    "        print(element)\n",
    "        driver = webdriver.Chrome(ChromeDriverManager().install())\n",
    "        driver.implicitly_wait(10)\n",
    "\n",
    "        driver.get(\"https://www.imdb.com/\")\n",
    "        # metemos el actor\n",
    "        driver.find_element(\"css selector\", \"#suggestion-search\").send_keys(element, Keys.ENTER)\n",
    "        driver.implicitly_wait(10)\n",
    "        \n",
    "        \n",
    "        # hacemos click en la actriz o actor\n",
    "        driver.find_element(\"css selector\", '#__next > main > div.ipc-page-content-container.ipc-page-content-container--full.sc-5c7dd5e4-0.iRUEko > div.ipc-page-content-container.ipc-page-content-container--center > section > div > div.ipc-page-grid__item.ipc-page-grid__item--span-2 > section:nth-child(3) > div.sc-17bafbdb-2.fgqnfI > ul > li:nth-child(1) > div.ipc-metadata-list-summary-item__c').click()\n",
    "\n",
    "        if eleccion == \"director\": \n",
    "            pass\n",
    "        else:\n",
    "            #capturamos los creditos\n",
    "            personal_actors[\"creditos\"].append(driver.find_element(\"css selector\", \"#__next > main > div > section.ipc-page-background.ipc-page-background--base.sc-9b716f3b-0.hWwhTB > div > section > div > div.sc-4253d404-1.hwVyrY.ipc-page-grid__item.ipc-page-grid__item--span-2 > div.celwidget > section:nth-child(2) > div.ipc-chip-list--base.ipc-chip-list.ipc-chip-list--nowrap.sc-2919cd96-0.hNbCTu.nm_flmg_chips > div.ipc-chip-list__scroller > div.filmography-chip-group.ipc-chip-group\").text)\n",
    "\n",
    "        \n",
    "        personal_actors[\"name\"].append(element)\n",
    "        try:\n",
    "            personal_actors[\"positions\"].append(driver.find_element(\"css selector\", '#__next > main > div > section.ipc-page-background.ipc-page-background--base.sc-9b716f3b-0.hWwhTB > section > div:nth-child(4) > section > section > div.sc-d3e8adc5-3.kIpvxT > div > ul').text)\n",
    "        except: \n",
    "             personal_actors[\"positions\"].append(np.nan)\n",
    "                \n",
    "                \n",
    "        # capturamos conocido por\n",
    "        try:\n",
    "            personal_actors[\"known_for\"].append(driver.find_element(\"css selector\", \"#__next > main > div > section.ipc-page-background.ipc-page-background--base.sc-9b716f3b-0.hWwhTB > div > section > div > div.sc-4253d404-1.hwVyrY.ipc-page-grid__item.ipc-page-grid__item--span-2 > div.celwidget > section:nth-child(1) > div.sc-5eb32b71-0.jVJjba > div > div.ipc-sub-grid.ipc-sub-grid--page-span-2.ipc-sub-grid--wraps-at-above-l.ipc-shoveler__grid\").text)\n",
    "        except:\n",
    "            personal_actors[\"known_for\"].append(np.nan)\n",
    "            \n",
    "        \n",
    "        driver.implicitly_wait(30)\n",
    "        # entro en la biografía\n",
    "        driver.find_element(\"css selector\", \"#__next > main > div > section.ipc-page-background.ipc-page-background--base.sc-9b716f3b-0.hWwhTB > section > div:nth-child(4) > section > section > div.sc-383649c6-0.fOBDDX > div > div:nth-child(2) > ul > li:nth-child(1) > a\").click()\n",
    "        \n",
    "        # capturamos la descripcion\n",
    "        try:\n",
    "            personal_actors[\"description\"].append(driver.find_element(\"css selector\", '#bio_content > div:nth-child(9)').text)\n",
    "        except:\n",
    "            personal_actors[\"description\"].append(np.nan)\n",
    "            \n",
    "        # capturamos la imagen\n",
    "        try:\n",
    "            personal_actors[\"image\"].append(driver.find_element(\"css selector\", '#main > div.article.listo > div.subpage_title_block.name-subpage-header-block > a > img').get_attribute(\"src\"))\n",
    "        except:\n",
    "            personal_actors[\"image\"].append(np.nan)\n",
    "            \n",
    "        \n",
    "    driver.quit()\n",
    "    if eleccion == \"director\":\n",
    "        personal_actors.pop(\"creditos\")\n",
    "        return pd.DataFrame(personal_actors)\n",
    "    elif eleccion == \"actor\":\n",
    "        return pd.DataFrame(personal_actors)"
   ]
  },
  {
   "cell_type": "code",
   "execution_count": 5,
   "metadata": {},
   "outputs": [
    {
     "name": "stdout",
     "output_type": "stream",
     "text": [
      "Que quieres escrapear, director o actor:actor\n"
     ]
    }
   ],
   "source": [
    "# scrapping información personal de cada actor\n",
    "actors_df = scrap_imdb(actors)"
   ]
  },
  {
   "cell_type": "code",
   "execution_count": 6,
   "metadata": {},
   "outputs": [
    {
     "data": {
      "text/html": [
       "<div>\n",
       "<style scoped>\n",
       "    .dataframe tbody tr th:only-of-type {\n",
       "        vertical-align: middle;\n",
       "    }\n",
       "\n",
       "    .dataframe tbody tr th {\n",
       "        vertical-align: top;\n",
       "    }\n",
       "\n",
       "    .dataframe thead th {\n",
       "        text-align: right;\n",
       "    }\n",
       "</style>\n",
       "<table border=\"1\" class=\"dataframe\">\n",
       "  <thead>\n",
       "    <tr style=\"text-align: right;\">\n",
       "      <th></th>\n",
       "      <th>name</th>\n",
       "      <th>image</th>\n",
       "      <th>description</th>\n",
       "      <th>positions</th>\n",
       "      <th>known_for</th>\n",
       "      <th>creditos</th>\n",
       "    </tr>\n",
       "  </thead>\n",
       "  <tbody>\n",
       "    <tr>\n",
       "      <th>0</th>\n",
       "      <td>Adam Sandler</td>\n",
       "      <td>https://m.media-amazon.com/images/M/MV5BMjQyNz...</td>\n",
       "      <td>Adam Richard Sandler was born September 9, 196...</td>\n",
       "      <td>Reparto\\nProducción\\nGuion</td>\n",
       "      <td>El aguador\\n6,1\\nBobby Boucher\\n1998\\nEl chico...</td>\n",
       "      <td>Banda sonora34\\nGuion y continuidad7\\nComposic...</td>\n",
       "    </tr>\n",
       "    <tr>\n",
       "      <th>1</th>\n",
       "      <td>Maya Rudolph</td>\n",
       "      <td>https://m.media-amazon.com/images/M/MV5BMTMzOT...</td>\n",
       "      <td>Maya Rudolph was born on July 27, 1972 in Gain...</td>\n",
       "      <td>Reparto\\nProducción\\nGuion</td>\n",
       "      <td>La boda de mi mejor amiga\\n6,8\\nLillian\\n2011\\...</td>\n",
       "      <td>Banda sonora29\\nMúsica1\\nComo sí mismos120\\nAg...</td>\n",
       "    </tr>\n",
       "  </tbody>\n",
       "</table>\n",
       "</div>"
      ],
      "text/plain": [
       "           name                                              image  \\\n",
       "0  Adam Sandler  https://m.media-amazon.com/images/M/MV5BMjQyNz...   \n",
       "1  Maya Rudolph  https://m.media-amazon.com/images/M/MV5BMTMzOT...   \n",
       "\n",
       "                                         description  \\\n",
       "0  Adam Richard Sandler was born September 9, 196...   \n",
       "1  Maya Rudolph was born on July 27, 1972 in Gain...   \n",
       "\n",
       "                    positions  \\\n",
       "0  Reparto\\nProducción\\nGuion   \n",
       "1  Reparto\\nProducción\\nGuion   \n",
       "\n",
       "                                           known_for  \\\n",
       "0  El aguador\\n6,1\\nBobby Boucher\\n1998\\nEl chico...   \n",
       "1  La boda de mi mejor amiga\\n6,8\\nLillian\\n2011\\...   \n",
       "\n",
       "                                            creditos  \n",
       "0  Banda sonora34\\nGuion y continuidad7\\nComposic...  \n",
       "1  Banda sonora29\\nMúsica1\\nComo sí mismos120\\nAg...  "
      ]
     },
     "execution_count": 6,
     "metadata": {},
     "output_type": "execute_result"
    }
   ],
   "source": [
    "actors_df.head(2)"
   ]
  },
  {
   "cell_type": "code",
   "execution_count": 7,
   "metadata": {},
   "outputs": [],
   "source": [
    "actors_df[\"positions\"] = actors_df[\"positions\"].str.replace(\"\\n\", \" \")"
   ]
  },
  {
   "cell_type": "code",
   "execution_count": 8,
   "metadata": {},
   "outputs": [
    {
     "data": {
      "text/html": [
       "<div>\n",
       "<style scoped>\n",
       "    .dataframe tbody tr th:only-of-type {\n",
       "        vertical-align: middle;\n",
       "    }\n",
       "\n",
       "    .dataframe tbody tr th {\n",
       "        vertical-align: top;\n",
       "    }\n",
       "\n",
       "    .dataframe thead th {\n",
       "        text-align: right;\n",
       "    }\n",
       "</style>\n",
       "<table border=\"1\" class=\"dataframe\">\n",
       "  <thead>\n",
       "    <tr style=\"text-align: right;\">\n",
       "      <th></th>\n",
       "      <th>name</th>\n",
       "      <th>image</th>\n",
       "      <th>description</th>\n",
       "      <th>positions</th>\n",
       "      <th>known_for</th>\n",
       "      <th>creditos</th>\n",
       "    </tr>\n",
       "  </thead>\n",
       "  <tbody>\n",
       "    <tr>\n",
       "      <th>0</th>\n",
       "      <td>Adam Sandler</td>\n",
       "      <td>https://m.media-amazon.com/images/M/MV5BMjQyNz...</td>\n",
       "      <td>Adam Richard Sandler was born September 9, 196...</td>\n",
       "      <td>Reparto Producción Guion</td>\n",
       "      <td>El aguador\\n6,1\\nBobby Boucher\\n1998\\nEl chico...</td>\n",
       "      <td>Banda sonora34\\nGuion y continuidad7\\nComposic...</td>\n",
       "    </tr>\n",
       "  </tbody>\n",
       "</table>\n",
       "</div>"
      ],
      "text/plain": [
       "           name                                              image  \\\n",
       "0  Adam Sandler  https://m.media-amazon.com/images/M/MV5BMjQyNz...   \n",
       "\n",
       "                                         description  \\\n",
       "0  Adam Richard Sandler was born September 9, 196...   \n",
       "\n",
       "                  positions  \\\n",
       "0  Reparto Producción Guion   \n",
       "\n",
       "                                           known_for  \\\n",
       "0  El aguador\\n6,1\\nBobby Boucher\\n1998\\nEl chico...   \n",
       "\n",
       "                                            creditos  \n",
       "0  Banda sonora34\\nGuion y continuidad7\\nComposic...  "
      ]
     },
     "execution_count": 8,
     "metadata": {},
     "output_type": "execute_result"
    }
   ],
   "source": [
    "actors_df.head(1)"
   ]
  },
  {
   "cell_type": "code",
   "execution_count": 9,
   "metadata": {},
   "outputs": [],
   "source": [
    "actors_df[\"creditos\"] = actors_df[\"creditos\"].str.split(\"\\n\")"
   ]
  },
  {
   "cell_type": "code",
   "execution_count": 10,
   "metadata": {},
   "outputs": [],
   "source": [
    "for indice, fila in actors_df.iterrows():\n",
    "    for valores in fila[\"creditos\"]:\n",
    "        nombre_col = re.findall(\"[^0-9]+\", valores)[0]\n",
    "        \n",
    "        if nombre_col not in actors_df.columns:\n",
    "            actors_df[nombre_col] = np.nan\n",
    "        else:\n",
    "            pass\n",
    "        actors_df.loc[indice, nombre_col] = int(re.findall(\"[0-9]+\", valores)[0])\n",
    "        \n",
    "        "
   ]
  },
  {
   "cell_type": "code",
   "execution_count": 11,
   "metadata": {},
   "outputs": [
    {
     "data": {
      "text/html": [
       "<div>\n",
       "<style scoped>\n",
       "    .dataframe tbody tr th:only-of-type {\n",
       "        vertical-align: middle;\n",
       "    }\n",
       "\n",
       "    .dataframe tbody tr th {\n",
       "        vertical-align: top;\n",
       "    }\n",
       "\n",
       "    .dataframe thead th {\n",
       "        text-align: right;\n",
       "    }\n",
       "</style>\n",
       "<table border=\"1\" class=\"dataframe\">\n",
       "  <thead>\n",
       "    <tr style=\"text-align: right;\">\n",
       "      <th></th>\n",
       "      <th>name</th>\n",
       "      <th>image</th>\n",
       "      <th>description</th>\n",
       "      <th>positions</th>\n",
       "      <th>known_for</th>\n",
       "      <th>creditos</th>\n",
       "      <th>Banda sonora</th>\n",
       "      <th>Guion y continuidad</th>\n",
       "      <th>Composición</th>\n",
       "      <th>sonido de archivo</th>\n",
       "      <th>Música</th>\n",
       "      <th>Como sí mismos</th>\n",
       "      <th>Agradecimientos</th>\n",
       "      <th>metraje de archivo</th>\n",
       "      <th>Producción</th>\n",
       "      <th>Dirección</th>\n",
       "      <th>Dirección o asistencia de la segunda unidad</th>\n",
       "      <th>Equipos adicionales</th>\n",
       "    </tr>\n",
       "  </thead>\n",
       "  <tbody>\n",
       "    <tr>\n",
       "      <th>0</th>\n",
       "      <td>Adam Sandler</td>\n",
       "      <td>https://m.media-amazon.com/images/M/MV5BMjQyNz...</td>\n",
       "      <td>Adam Richard Sandler was born September 9, 196...</td>\n",
       "      <td>Reparto Producción Guion</td>\n",
       "      <td>El aguador\\n6,1\\nBobby Boucher\\n1998\\nEl chico...</td>\n",
       "      <td>[Banda sonora34, Guion y continuidad7, Composi...</td>\n",
       "      <td>34.0</td>\n",
       "      <td>7.0</td>\n",
       "      <td>3.0</td>\n",
       "      <td>2.0</td>\n",
       "      <td>1.0</td>\n",
       "      <td>256.0</td>\n",
       "      <td>10.0</td>\n",
       "      <td>80.0</td>\n",
       "      <td>NaN</td>\n",
       "      <td>NaN</td>\n",
       "      <td>NaN</td>\n",
       "      <td>NaN</td>\n",
       "    </tr>\n",
       "  </tbody>\n",
       "</table>\n",
       "</div>"
      ],
      "text/plain": [
       "           name                                              image  \\\n",
       "0  Adam Sandler  https://m.media-amazon.com/images/M/MV5BMjQyNz...   \n",
       "\n",
       "                                         description  \\\n",
       "0  Adam Richard Sandler was born September 9, 196...   \n",
       "\n",
       "                  positions  \\\n",
       "0  Reparto Producción Guion   \n",
       "\n",
       "                                           known_for  \\\n",
       "0  El aguador\\n6,1\\nBobby Boucher\\n1998\\nEl chico...   \n",
       "\n",
       "                                            creditos  Banda sonora  \\\n",
       "0  [Banda sonora34, Guion y continuidad7, Composi...          34.0   \n",
       "\n",
       "   Guion y continuidad  Composición  sonido de archivo  Música  \\\n",
       "0                  7.0          3.0                2.0     1.0   \n",
       "\n",
       "   Como sí mismos  Agradecimientos  metraje de archivo  Producción  Dirección  \\\n",
       "0           256.0             10.0                80.0         NaN        NaN   \n",
       "\n",
       "   Dirección o asistencia de la segunda unidad  Equipos adicionales  \n",
       "0                                          NaN                  NaN  "
      ]
     },
     "execution_count": 11,
     "metadata": {},
     "output_type": "execute_result"
    }
   ],
   "source": [
    "actors_df.head(1)"
   ]
  },
  {
   "cell_type": "code",
   "execution_count": 16,
   "metadata": {},
   "outputs": [],
   "source": [
    "actors_df.drop([\"creditos\"], axis = 1, inplace = True)"
   ]
  },
  {
   "cell_type": "code",
   "execution_count": 12,
   "metadata": {},
   "outputs": [],
   "source": [
    "actors_df[\"known_for\"] = actors_df[\"known_for\"].str.split(\"\\n\")"
   ]
  },
  {
   "cell_type": "code",
   "execution_count": 17,
   "metadata": {},
   "outputs": [],
   "source": [
    "actors_df = actors_df.explode(\"known_for\")"
   ]
  },
  {
   "cell_type": "code",
   "execution_count": 20,
   "metadata": {},
   "outputs": [
    {
     "data": {
      "text/html": [
       "<div>\n",
       "<style scoped>\n",
       "    .dataframe tbody tr th:only-of-type {\n",
       "        vertical-align: middle;\n",
       "    }\n",
       "\n",
       "    .dataframe tbody tr th {\n",
       "        vertical-align: top;\n",
       "    }\n",
       "\n",
       "    .dataframe thead th {\n",
       "        text-align: right;\n",
       "    }\n",
       "</style>\n",
       "<table border=\"1\" class=\"dataframe\">\n",
       "  <thead>\n",
       "    <tr style=\"text-align: right;\">\n",
       "      <th></th>\n",
       "      <th>name</th>\n",
       "      <th>image</th>\n",
       "      <th>description</th>\n",
       "      <th>positions</th>\n",
       "      <th>known_for</th>\n",
       "      <th>Banda sonora</th>\n",
       "      <th>Guion y continuidad</th>\n",
       "      <th>Composición</th>\n",
       "      <th>sonido de archivo</th>\n",
       "      <th>Música</th>\n",
       "      <th>Como sí mismos</th>\n",
       "      <th>Agradecimientos</th>\n",
       "      <th>metraje de archivo</th>\n",
       "      <th>Producción</th>\n",
       "      <th>Dirección</th>\n",
       "      <th>Dirección o asistencia de la segunda unidad</th>\n",
       "      <th>Equipos adicionales</th>\n",
       "    </tr>\n",
       "  </thead>\n",
       "  <tbody>\n",
       "    <tr>\n",
       "      <th>0</th>\n",
       "      <td>Adam Sandler</td>\n",
       "      <td>https://m.media-amazon.com/images/M/MV5BMjQyNz...</td>\n",
       "      <td>Adam Richard Sandler was born September 9, 196...</td>\n",
       "      <td>Reparto Producción Guion</td>\n",
       "      <td>El aguador</td>\n",
       "      <td>34.0</td>\n",
       "      <td>7.0</td>\n",
       "      <td>3.0</td>\n",
       "      <td>2.0</td>\n",
       "      <td>1.0</td>\n",
       "      <td>256.0</td>\n",
       "      <td>10.0</td>\n",
       "      <td>80.0</td>\n",
       "      <td>NaN</td>\n",
       "      <td>NaN</td>\n",
       "      <td>NaN</td>\n",
       "      <td>NaN</td>\n",
       "    </tr>\n",
       "    <tr>\n",
       "      <th>0</th>\n",
       "      <td>Adam Sandler</td>\n",
       "      <td>https://m.media-amazon.com/images/M/MV5BMjQyNz...</td>\n",
       "      <td>Adam Richard Sandler was born September 9, 196...</td>\n",
       "      <td>Reparto Producción Guion</td>\n",
       "      <td>6,1</td>\n",
       "      <td>34.0</td>\n",
       "      <td>7.0</td>\n",
       "      <td>3.0</td>\n",
       "      <td>2.0</td>\n",
       "      <td>1.0</td>\n",
       "      <td>256.0</td>\n",
       "      <td>10.0</td>\n",
       "      <td>80.0</td>\n",
       "      <td>NaN</td>\n",
       "      <td>NaN</td>\n",
       "      <td>NaN</td>\n",
       "      <td>NaN</td>\n",
       "    </tr>\n",
       "  </tbody>\n",
       "</table>\n",
       "</div>"
      ],
      "text/plain": [
       "           name                                              image  \\\n",
       "0  Adam Sandler  https://m.media-amazon.com/images/M/MV5BMjQyNz...   \n",
       "0  Adam Sandler  https://m.media-amazon.com/images/M/MV5BMjQyNz...   \n",
       "\n",
       "                                         description  \\\n",
       "0  Adam Richard Sandler was born September 9, 196...   \n",
       "0  Adam Richard Sandler was born September 9, 196...   \n",
       "\n",
       "                  positions   known_for  Banda sonora  Guion y continuidad  \\\n",
       "0  Reparto Producción Guion  El aguador          34.0                  7.0   \n",
       "0  Reparto Producción Guion         6,1          34.0                  7.0   \n",
       "\n",
       "   Composición  sonido de archivo  Música  Como sí mismos  Agradecimientos  \\\n",
       "0          3.0                2.0     1.0           256.0             10.0   \n",
       "0          3.0                2.0     1.0           256.0             10.0   \n",
       "\n",
       "   metraje de archivo  Producción  Dirección  \\\n",
       "0                80.0         NaN        NaN   \n",
       "0                80.0         NaN        NaN   \n",
       "\n",
       "   Dirección o asistencia de la segunda unidad  Equipos adicionales  \n",
       "0                                          NaN                  NaN  \n",
       "0                                          NaN                  NaN  "
      ]
     },
     "execution_count": 20,
     "metadata": {},
     "output_type": "execute_result"
    }
   ],
   "source": [
    "actors_df.head(2)"
   ]
  },
  {
   "cell_type": "code",
   "execution_count": 21,
   "metadata": {},
   "outputs": [],
   "source": [
    "actors_df.to_csv(\"../data/top10_actors.csv\", index = False, sep = \";\")\n"
   ]
  },
  {
   "cell_type": "markdown",
   "metadata": {},
   "source": [
    "# Directors"
   ]
  },
  {
   "cell_type": "code",
   "execution_count": 25,
   "metadata": {},
   "outputs": [
    {
     "data": {
      "text/plain": [
       "['McG',\n",
       " 'Blair Simmons',\n",
       " 'John Schultz',\n",
       " 'Noah Baumbach',\n",
       " 'Karan Johar',\n",
       " 'Dibakar Banerjee',\n",
       " 'Julien Leclercq',\n",
       " 'Amy Poehler',\n",
       " 'Kyle Newacheck',\n",
       " 'Peter Sullivan']"
      ]
     },
     "execution_count": 25,
     "metadata": {},
     "output_type": "execute_result"
    }
   ],
   "source": [
    "# open the top10 directors pickle file\n",
    "with open('../data/pickle/top10_directors.pickle', 'rb') as dir:\n",
    "    directors = pickle.load(dir)\n",
    "directors"
   ]
  },
  {
   "cell_type": "code",
   "execution_count": 41,
   "metadata": {},
   "outputs": [
    {
     "name": "stdout",
     "output_type": "stream",
     "text": [
      "Que quieres escrapear, director o actor:director\n"
     ]
    },
    {
     "name": "stderr",
     "output_type": "stream",
     "text": [
      "\r",
      "  0%|                                                    | 0/10 [00:00<?, ?it/s]"
     ]
    },
    {
     "name": "stdout",
     "output_type": "stream",
     "text": [
      "McG\n"
     ]
    },
    {
     "name": "stderr",
     "output_type": "stream",
     "text": [
      "\r",
      " 10%|████▍                                       | 1/10 [00:12<01:51, 12.35s/it]"
     ]
    },
    {
     "name": "stdout",
     "output_type": "stream",
     "text": [
      "Blair Simmons\n"
     ]
    },
    {
     "name": "stderr",
     "output_type": "stream",
     "text": [
      "\r",
      " 20%|████████▊                                   | 2/10 [01:24<06:21, 47.73s/it]"
     ]
    },
    {
     "name": "stdout",
     "output_type": "stream",
     "text": [
      "John Schultz\n"
     ]
    },
    {
     "name": "stderr",
     "output_type": "stream",
     "text": [
      "\r",
      " 30%|█████████████▏                              | 3/10 [01:36<03:40, 31.44s/it]"
     ]
    },
    {
     "name": "stdout",
     "output_type": "stream",
     "text": [
      "Noah Baumbach\n"
     ]
    },
    {
     "name": "stderr",
     "output_type": "stream",
     "text": [
      "\r",
      " 40%|█████████████████▌                          | 4/10 [01:50<02:25, 24.25s/it]"
     ]
    },
    {
     "name": "stdout",
     "output_type": "stream",
     "text": [
      "Karan Johar\n"
     ]
    },
    {
     "name": "stderr",
     "output_type": "stream",
     "text": [
      "\r",
      " 50%|██████████████████████                      | 5/10 [02:03<01:41, 20.25s/it]"
     ]
    },
    {
     "name": "stdout",
     "output_type": "stream",
     "text": [
      "Dibakar Banerjee\n"
     ]
    },
    {
     "name": "stderr",
     "output_type": "stream",
     "text": [
      "\r",
      " 60%|██████████████████████████▍                 | 6/10 [02:16<01:11, 17.96s/it]"
     ]
    },
    {
     "name": "stdout",
     "output_type": "stream",
     "text": [
      "Julien Leclercq\n"
     ]
    },
    {
     "name": "stderr",
     "output_type": "stream",
     "text": [
      "\r",
      " 70%|██████████████████████████████▊             | 7/10 [03:31<01:49, 36.53s/it]"
     ]
    },
    {
     "name": "stdout",
     "output_type": "stream",
     "text": [
      "Amy Poehler\n"
     ]
    },
    {
     "name": "stderr",
     "output_type": "stream",
     "text": [
      "\r",
      " 80%|███████████████████████████████████▏        | 8/10 [03:44<00:57, 28.95s/it]"
     ]
    },
    {
     "name": "stdout",
     "output_type": "stream",
     "text": [
      "Kyle Newacheck\n"
     ]
    },
    {
     "name": "stderr",
     "output_type": "stream",
     "text": [
      "\r",
      " 90%|███████████████████████████████████████▌    | 9/10 [03:58<00:24, 24.28s/it]"
     ]
    },
    {
     "name": "stdout",
     "output_type": "stream",
     "text": [
      "Peter Sullivan\n"
     ]
    },
    {
     "name": "stderr",
     "output_type": "stream",
     "text": [
      "100%|███████████████████████████████████████████| 10/10 [04:42<00:00, 28.28s/it]\n"
     ]
    }
   ],
   "source": [
    "# scrapping información personal directores \n",
    "directors_df  = scrap_imdb(directors)"
   ]
  },
  {
   "cell_type": "code",
   "execution_count": 42,
   "metadata": {},
   "outputs": [
    {
     "data": {
      "text/html": [
       "<div>\n",
       "<style scoped>\n",
       "    .dataframe tbody tr th:only-of-type {\n",
       "        vertical-align: middle;\n",
       "    }\n",
       "\n",
       "    .dataframe tbody tr th {\n",
       "        vertical-align: top;\n",
       "    }\n",
       "\n",
       "    .dataframe thead th {\n",
       "        text-align: right;\n",
       "    }\n",
       "</style>\n",
       "<table border=\"1\" class=\"dataframe\">\n",
       "  <thead>\n",
       "    <tr style=\"text-align: right;\">\n",
       "      <th></th>\n",
       "      <th>name</th>\n",
       "      <th>image</th>\n",
       "      <th>description</th>\n",
       "      <th>positions</th>\n",
       "      <th>known_for</th>\n",
       "    </tr>\n",
       "  </thead>\n",
       "  <tbody>\n",
       "    <tr>\n",
       "      <th>0</th>\n",
       "      <td>McG</td>\n",
       "      <td>https://m.media-amazon.com/images/M/MV5BMTI1MT...</td>\n",
       "      <td>McG was born on August 9, 1968 in Kalamazoo, M...</td>\n",
       "      <td>Producción\\nEquipos adicionales\\nDirección</td>\n",
       "      <td>Los ángeles de Charlie: Al límite\\n4,9\\nDirecc...</td>\n",
       "    </tr>\n",
       "    <tr>\n",
       "      <th>1</th>\n",
       "      <td>Blair Simmons</td>\n",
       "      <td>NaN</td>\n",
       "      <td>NaN</td>\n",
       "      <td>Dirección\\nAnimación\\nArte</td>\n",
       "      <td>Blaze y los Monster Machines\\n5,7\\nSerie de TV...</td>\n",
       "    </tr>\n",
       "    <tr>\n",
       "      <th>2</th>\n",
       "      <td>John Schultz</td>\n",
       "      <td>https://m.media-amazon.com/images/M/MV5BMTY5MD...</td>\n",
       "      <td>Schultz was an original member of the Charlott...</td>\n",
       "      <td>Dirección\\nGuion\\nProducción</td>\n",
       "      <td>Bandwagon\\n7,1\\nDirección\\n1996\\nUna pandilla ...</td>\n",
       "    </tr>\n",
       "    <tr>\n",
       "      <th>3</th>\n",
       "      <td>Noah Baumbach</td>\n",
       "      <td>https://m.media-amazon.com/images/M/MV5BMjA3NT...</td>\n",
       "      <td>Born in Brooklyn in 1969 Noah Baumbach is the ...</td>\n",
       "      <td>Guion\\nDirección\\nProducción</td>\n",
       "      <td>Historia de un matrimonio\\n7,9\\nGuion\\n2019\\nU...</td>\n",
       "    </tr>\n",
       "    <tr>\n",
       "      <th>4</th>\n",
       "      <td>Karan Johar</td>\n",
       "      <td>https://m.media-amazon.com/images/M/MV5BMTM5Nj...</td>\n",
       "      <td>A close friend of Shahrukh Khan, he assisted Y...</td>\n",
       "      <td>Producción\\nReparto\\nGuion</td>\n",
       "      <td>Algo sucede en mi corazón\\n7,6\\nGuion\\n1998\\nN...</td>\n",
       "    </tr>\n",
       "  </tbody>\n",
       "</table>\n",
       "</div>"
      ],
      "text/plain": [
       "            name                                              image  \\\n",
       "0            McG  https://m.media-amazon.com/images/M/MV5BMTI1MT...   \n",
       "1  Blair Simmons                                                NaN   \n",
       "2   John Schultz  https://m.media-amazon.com/images/M/MV5BMTY5MD...   \n",
       "3  Noah Baumbach  https://m.media-amazon.com/images/M/MV5BMjA3NT...   \n",
       "4    Karan Johar  https://m.media-amazon.com/images/M/MV5BMTM5Nj...   \n",
       "\n",
       "                                         description  \\\n",
       "0  McG was born on August 9, 1968 in Kalamazoo, M...   \n",
       "1                                                NaN   \n",
       "2  Schultz was an original member of the Charlott...   \n",
       "3  Born in Brooklyn in 1969 Noah Baumbach is the ...   \n",
       "4  A close friend of Shahrukh Khan, he assisted Y...   \n",
       "\n",
       "                                    positions  \\\n",
       "0  Producción\\nEquipos adicionales\\nDirección   \n",
       "1                  Dirección\\nAnimación\\nArte   \n",
       "2                Dirección\\nGuion\\nProducción   \n",
       "3                Guion\\nDirección\\nProducción   \n",
       "4                  Producción\\nReparto\\nGuion   \n",
       "\n",
       "                                           known_for  \n",
       "0  Los ángeles de Charlie: Al límite\\n4,9\\nDirecc...  \n",
       "1  Blaze y los Monster Machines\\n5,7\\nSerie de TV...  \n",
       "2  Bandwagon\\n7,1\\nDirección\\n1996\\nUna pandilla ...  \n",
       "3  Historia de un matrimonio\\n7,9\\nGuion\\n2019\\nU...  \n",
       "4  Algo sucede en mi corazón\\n7,6\\nGuion\\n1998\\nN...  "
      ]
     },
     "execution_count": 42,
     "metadata": {},
     "output_type": "execute_result"
    }
   ],
   "source": [
    "directors_df.head()"
   ]
  },
  {
   "cell_type": "code",
   "execution_count": 43,
   "metadata": {},
   "outputs": [],
   "source": [
    "directors_df[\"positions\"] = directors_df[\"positions\"].str.replace(\"\\n\", \" \")\n",
    "directors_df[\"known_for\"] = directors_df[\"known_for\"].str.split(\"\\n\")"
   ]
  },
  {
   "cell_type": "code",
   "execution_count": 44,
   "metadata": {},
   "outputs": [],
   "source": [
    "directors_df = directors_df.explode(\"known_for\")"
   ]
  },
  {
   "cell_type": "code",
   "execution_count": 45,
   "metadata": {},
   "outputs": [
    {
     "data": {
      "text/html": [
       "<div>\n",
       "<style scoped>\n",
       "    .dataframe tbody tr th:only-of-type {\n",
       "        vertical-align: middle;\n",
       "    }\n",
       "\n",
       "    .dataframe tbody tr th {\n",
       "        vertical-align: top;\n",
       "    }\n",
       "\n",
       "    .dataframe thead th {\n",
       "        text-align: right;\n",
       "    }\n",
       "</style>\n",
       "<table border=\"1\" class=\"dataframe\">\n",
       "  <thead>\n",
       "    <tr style=\"text-align: right;\">\n",
       "      <th></th>\n",
       "      <th>name</th>\n",
       "      <th>image</th>\n",
       "      <th>description</th>\n",
       "      <th>positions</th>\n",
       "      <th>known_for</th>\n",
       "    </tr>\n",
       "  </thead>\n",
       "  <tbody>\n",
       "    <tr>\n",
       "      <th>0</th>\n",
       "      <td>McG</td>\n",
       "      <td>https://m.media-amazon.com/images/M/MV5BMTI1MT...</td>\n",
       "      <td>McG was born on August 9, 1968 in Kalamazoo, M...</td>\n",
       "      <td>Producción Equipos adicionales Dirección</td>\n",
       "      <td>Los ángeles de Charlie: Al límite</td>\n",
       "    </tr>\n",
       "    <tr>\n",
       "      <th>0</th>\n",
       "      <td>McG</td>\n",
       "      <td>https://m.media-amazon.com/images/M/MV5BMTI1MT...</td>\n",
       "      <td>McG was born on August 9, 1968 in Kalamazoo, M...</td>\n",
       "      <td>Producción Equipos adicionales Dirección</td>\n",
       "      <td>4,9</td>\n",
       "    </tr>\n",
       "    <tr>\n",
       "      <th>0</th>\n",
       "      <td>McG</td>\n",
       "      <td>https://m.media-amazon.com/images/M/MV5BMTI1MT...</td>\n",
       "      <td>McG was born on August 9, 1968 in Kalamazoo, M...</td>\n",
       "      <td>Producción Equipos adicionales Dirección</td>\n",
       "      <td>Dirección</td>\n",
       "    </tr>\n",
       "    <tr>\n",
       "      <th>0</th>\n",
       "      <td>McG</td>\n",
       "      <td>https://m.media-amazon.com/images/M/MV5BMTI1MT...</td>\n",
       "      <td>McG was born on August 9, 1968 in Kalamazoo, M...</td>\n",
       "      <td>Producción Equipos adicionales Dirección</td>\n",
       "      <td>2003</td>\n",
       "    </tr>\n",
       "    <tr>\n",
       "      <th>0</th>\n",
       "      <td>McG</td>\n",
       "      <td>https://m.media-amazon.com/images/M/MV5BMTI1MT...</td>\n",
       "      <td>McG was born on August 9, 1968 in Kalamazoo, M...</td>\n",
       "      <td>Producción Equipos adicionales Dirección</td>\n",
       "      <td>Terminator: Salvation</td>\n",
       "    </tr>\n",
       "  </tbody>\n",
       "</table>\n",
       "</div>"
      ],
      "text/plain": [
       "  name                                              image  \\\n",
       "0  McG  https://m.media-amazon.com/images/M/MV5BMTI1MT...   \n",
       "0  McG  https://m.media-amazon.com/images/M/MV5BMTI1MT...   \n",
       "0  McG  https://m.media-amazon.com/images/M/MV5BMTI1MT...   \n",
       "0  McG  https://m.media-amazon.com/images/M/MV5BMTI1MT...   \n",
       "0  McG  https://m.media-amazon.com/images/M/MV5BMTI1MT...   \n",
       "\n",
       "                                         description  \\\n",
       "0  McG was born on August 9, 1968 in Kalamazoo, M...   \n",
       "0  McG was born on August 9, 1968 in Kalamazoo, M...   \n",
       "0  McG was born on August 9, 1968 in Kalamazoo, M...   \n",
       "0  McG was born on August 9, 1968 in Kalamazoo, M...   \n",
       "0  McG was born on August 9, 1968 in Kalamazoo, M...   \n",
       "\n",
       "                                  positions                          known_for  \n",
       "0  Producción Equipos adicionales Dirección  Los ángeles de Charlie: Al límite  \n",
       "0  Producción Equipos adicionales Dirección                                4,9  \n",
       "0  Producción Equipos adicionales Dirección                          Dirección  \n",
       "0  Producción Equipos adicionales Dirección                               2003  \n",
       "0  Producción Equipos adicionales Dirección              Terminator: Salvation  "
      ]
     },
     "execution_count": 45,
     "metadata": {},
     "output_type": "execute_result"
    }
   ],
   "source": [
    "directors_df.head()"
   ]
  },
  {
   "cell_type": "code",
   "execution_count": 46,
   "metadata": {},
   "outputs": [],
   "source": [
    "directors_df.to_csv(\"../data/top10_directors.csv\", index=False, sep= \";\")\n"
   ]
  }
 ],
 "metadata": {
  "kernelspec": {
   "display_name": "scrap",
   "language": "python",
   "name": "scrap"
  },
  "language_info": {
   "codemirror_mode": {
    "name": "ipython",
    "version": 3
   },
   "file_extension": ".py",
   "mimetype": "text/x-python",
   "name": "python",
   "nbconvert_exporter": "python",
   "pygments_lexer": "ipython3",
   "version": "3.10.8"
  },
  "toc": {
   "base_numbering": 1,
   "nav_menu": {},
   "number_sections": true,
   "sideBar": true,
   "skip_h1_title": false,
   "title_cell": "Table of Contents",
   "title_sidebar": "Contents",
   "toc_cell": false,
   "toc_position": {},
   "toc_section_display": true,
   "toc_window_display": false
  },
  "vscode": {
   "interpreter": {
    "hash": "8560ba40f25f8debc3b21cfdc72602d7855270eb253b25380125fbd9b6cd3418"
   }
  }
 },
 "nbformat": 4,
 "nbformat_minor": 2
}
