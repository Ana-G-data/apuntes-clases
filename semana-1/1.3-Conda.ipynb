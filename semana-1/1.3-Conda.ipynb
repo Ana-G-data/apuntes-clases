{
 "cells": [
  {
   "cell_type": "markdown",
   "metadata": {},
   "source": [
    "# ¿Qué es anaconda?\n",
    "\n",
    "Es una *suite* de código abierto de los lenguajes R y Python. Se usa principalmente en trabajos de aprendizaje automático y de análisis de datos. Su funcionalidad es enorme, pues nos permite efectuar las siguientes funciones:\n",
    "\n",
    "- Procesar grandes volúmenes de información.\n",
    "  \n",
    "- Realizar un análisis predictivo.\n",
    "  \n",
    "- Ejecutar cómputos científicos.\n",
    "\n",
    "\n",
    "Sus caractesrísticas son: \n",
    "\n",
    "- Permite instalar y administrar los paquetes, los entornos y las dependencias para aplicaciones de ciencia de datos de Python de forma sencilla.\n",
    "\n",
    "- Utiliza distintos IDE, como Spyder o Jupyter.\n",
    "\n",
    "- Incluye herramientas como Numba o Dask para el análisis de datos.\n",
    "\n",
    "- Visualización de datos con Holoviews, Bokeh y Datashader, entre otros.\n",
    "\n",
    "- Una amplia variedad de aplicaciones de machine learning.\n",
    "\n",
    "- Es una interfaz de usuario GUI muy fácil de emplear.\n",
    "\n",
    "- Permite acceder a recursos para aprender a manejarlo mejor.\n",
    "\n",
    "- No depende del control de versiones o de paquetes específicos.\n",
    "\n",
    "- Consta de herramientas que te ayudan a compartir y a crear documentos con código de compilación en vivo, anotaciones, ecuaciones y descripciones.\n",
    "\n",
    "- Lleva a cabo la compilación Python realizada en código de máquina para acelerar la ejecución.\n",
    "\n",
    "- Contribuye a efectuar la escritura de algoritmos mientras se ejecutan otras tareas esenciales.\n",
    "\n",
    "- Podrás compartir tus avances con otros o ejecutar los que generes en distintas plataformas.\n",
    "\n",
    "- Simplificarás la implementación de proyectos de ciencia de datos.\n"
   ]
  },
  {
   "cell_type": "markdown",
   "metadata": {},
   "source": [
    "# Trabajando con entornos\n",
    "\n",
    "## Creación de entornos\n",
    "\n",
    "Para la creación de entornos usaremos la siguiente línea de código en la terminal: \n",
    "\n",
    "```\n",
    "conda create --name NOMBRE_ENTORNO python=3.9\n",
    "```\n",
    "\n",
    "## Activamos entornos\n",
    "\n",
    "Una vez que hayamos creado el entorno querremos utilizarlo. ¿Cómo lo haremos? \n",
    "\n",
    "```\n",
    "conda activate NOMBRE_ENTORNO\n",
    "```\n",
    "\n",
    "## Desactivamos entornos\n",
    "\n",
    "```\n",
    "conda deactivate\n",
    "```\n",
    "\n",
    "Sin embargo, haciendo solo esto, si nos vamos al jupyter notebook no podremos seleccionar el entorno o kernel que acabamos de crear. Para poder usarlo necesitaremos realizar los siguientes pasos desde la terminal: \n",
    "\n",
    "```\n",
    "conda install -c anaconda ipykernel\n",
    "\n",
    "o \n",
    "\n",
    "pip install ipykernel\n",
    "```\n",
    "\n",
    "Después de esto haremos en la terminal de nuevo: \n",
    "\n",
    "```\n",
    "python -m ipykernel install --user --name=NOMBRE_ENTORNO\n",
    "```\n",
    "\n",
    "Después de hacer esto, en el jupyter podremos seleccionar en que entorno trabajar 👇🏽\n",
    "\n",
    "![entorno](https://github.com/Ironhack-Data-Madrid-PartTime-Oct22/imagenes/blob/master/semana-1/kernel.png?raw=true)"
   ]
  },
  {
   "cell_type": "markdown",
   "metadata": {},
   "source": [
    "# Exportar e importar un entorno de conda\n",
    "\n",
    "\n",
    "Para exportar el entorno: \n",
    "\n",
    "```\n",
    "conda env export > NOMBRE_ENTORNO.yml\n",
    "```\n",
    "\n",
    "\n",
    "Para importar/instalar un entorno\n",
    "\n",
    "```\n",
    "conda env create --file NOMBRE_ENTORNO.yml\n",
    "```"
   ]
  },
  {
   "cell_type": "code",
   "execution_count": null,
   "metadata": {},
   "outputs": [],
   "source": []
  },
  {
   "cell_type": "code",
   "execution_count": null,
   "metadata": {},
   "outputs": [],
   "source": []
  },
  {
   "cell_type": "code",
   "execution_count": null,
   "metadata": {},
   "outputs": [],
   "source": []
  },
  {
   "cell_type": "code",
   "execution_count": null,
   "metadata": {},
   "outputs": [],
   "source": []
  },
  {
   "cell_type": "code",
   "execution_count": null,
   "metadata": {},
   "outputs": [],
   "source": []
  },
  {
   "cell_type": "code",
   "execution_count": null,
   "metadata": {},
   "outputs": [],
   "source": []
  }
 ],
 "metadata": {
  "kernelspec": {
   "display_name": "Python 3.10.6 64-bit",
   "language": "python",
   "name": "python3"
  },
  "language_info": {
   "name": "python",
   "version": "3.10.6"
  },
  "orig_nbformat": 4,
  "vscode": {
   "interpreter": {
    "hash": "aee8b7b246df8f9039afb4144a1f6fd8d2ca17a180786b69acc140d282b71a49"
   }
  }
 },
 "nbformat": 4,
 "nbformat_minor": 2
}
